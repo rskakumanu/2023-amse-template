{
 "cells": [
  {
   "cell_type": "code",
   "execution_count": 15,
   "metadata": {},
   "outputs": [],
   "source": [
    "import pandas as pd\n",
    "import numpy as np\n",
    "import sqlite3\n",
    "import sqlalchemy\n",
    "import urllib.request\n",
    "import zipfile\n",
    "import kaggle"
   ]
  },
  {
   "cell_type": "code",
   "execution_count": 13,
   "metadata": {},
   "outputs": [],
   "source": [
    "def extract_load(file_name, table_name, url_path = None):\n",
    "    \n",
    "    if url_path:\n",
    "        urllib.request.urlretrieve(url_path, file_name)\n",
    "        data = pd.read_csv(file_name, delimiter=\";\", skip_blank_lines= True, on_bad_lines='skip', low_memory= False)\n",
    "    else:\n",
    "        data = pd.read_csv(file_name, delimiter=\",\")\n",
    "\n",
    "    conn = sqlite3.connect(\"db_Saki.db\")\n",
    "    data.to_sql(table_name, conn, if_exists=\"replace\", index= False)\n",
    "    conn.close()"
   ]
  },
  {
   "cell_type": "code",
   "execution_count": 11,
   "metadata": {},
   "outputs": [],
   "source": [
    "url_speed = \"https://offenedaten-koeln.de/sites/default/files/Geschwindigkeit%C3%BCberwachung_Koeln_Gesamt_2017-2021.csv\"\n",
    "file_speed = \"Geschwindigkeitüberwachung_Koeln_Gesamt_2017-2021.csv\"\n",
    "extract_load(url_path=url_speed, file_name= file_speed, table_name = \"data_speed\")"
   ]
  },
  {
   "cell_type": "code",
   "execution_count": 5,
   "metadata": {},
   "outputs": [
    {
     "name": "stdout",
     "output_type": "stream",
     "text": [
      "Downloading weather-cologne-bonn-history.zip to d:\\myprojects\\fau\\saki\\2023-amse-template\\project\\data"
     ]
    },
    {
     "name": "stderr",
     "output_type": "stream",
     "text": [
      "\n",
      "  0%|          | 0.00/11.3M [00:00<?, ?B/s]\n",
      "  9%|▉         | 1.00M/11.3M [00:00<00:01, 8.71MB/s]\n",
      " 18%|█▊        | 2.00M/11.3M [00:00<00:01, 8.27MB/s]\n",
      " 27%|██▋       | 3.00M/11.3M [00:00<00:00, 8.91MB/s]\n",
      " 35%|███▌      | 4.00M/11.3M [00:00<00:00, 8.51MB/s]\n",
      " 44%|████▍     | 5.00M/11.3M [00:00<00:00, 8.18MB/s]\n",
      " 53%|█████▎    | 6.00M/11.3M [00:00<00:00, 7.97MB/s]\n",
      " 62%|██████▏   | 7.00M/11.3M [00:00<00:00, 7.96MB/s]\n",
      " 71%|███████   | 8.00M/11.3M [00:01<00:00, 8.06MB/s]\n",
      " 80%|███████▉  | 9.00M/11.3M [00:01<00:00, 8.30MB/s]\n",
      " 88%|████████▊ | 10.0M/11.3M [00:01<00:00, 6.09MB/s]\n",
      "100%|██████████| 11.3M/11.3M [00:01<00:00, 7.22MB/s]\n",
      "100%|██████████| 11.3M/11.3M [00:01<00:00, 7.67MB/s]\n"
     ]
    },
    {
     "name": "stdout",
     "output_type": "stream",
     "text": [
      "\n",
      "\n"
     ]
    }
   ],
   "source": [
    "!kaggle datasets download -d bastitee/weather-cologne-bonn-history\n",
    "\n",
    "with zipfile.ZipFile(\"weather-cologne-bonn-history.zip\", \"r\") as zip_ref:\n",
    "    zip_ref.extractall(\".\")"
   ]
  },
  {
   "cell_type": "code",
   "execution_count": 14,
   "metadata": {},
   "outputs": [],
   "source": [
    "file_speed = \"weather-cologne-bonn-history-2000-2021.csv\"\n",
    "extract_load(file_name= file_speed, table_name = \"data_weather\")"
   ]
  }
 ],
 "metadata": {
  "kernelspec": {
   "display_name": "Python 3",
   "language": "python",
   "name": "python3"
  },
  "language_info": {
   "codemirror_mode": {
    "name": "ipython",
    "version": 3
   },
   "file_extension": ".py",
   "mimetype": "text/x-python",
   "name": "python",
   "nbconvert_exporter": "python",
   "pygments_lexer": "ipython3",
   "version": "3.8.16"
  },
  "orig_nbformat": 4
 },
 "nbformat": 4,
 "nbformat_minor": 2
}
