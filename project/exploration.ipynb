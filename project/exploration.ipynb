{
 "cells": [
  {
   "cell_type": "markdown",
   "id": "3dd91c93",
   "metadata": {},
   "source": [
    "## Data Exploration\n",
    "1. Load the data\n",
    "2. Examining Data: Use methods like `.head()`, `.tail()`, .`info()`, and `.describe()` to get an initial understanding of the data, including its structure, data types, and summary statistics"
   ]
  },
  {
   "cell_type": "markdown",
   "id": "335d38aa",
   "metadata": {},
   "source": [
    "#### About the datasets:\n",
    "`Speed monitoring Cologne`\n",
    "- Dataset: Recorded fines of urban speed enforcement in Cologne from 2017\n",
    "- Data includes: Year, month, incident date, incident time, location abbreviation, speed, exceeding amount, vehicle type, office, and location abbreviation\n",
    "- Focus on speed and red light violations captured by the security and traffic service's data collection\n",
    "- Does not include speed reports from the police\n",
    "- Provides information on vehicle types\n",
    "- Separate location tables available for speed measuring locations\n",
    "- Sourced from the Open Data Portal of Cologne\n",
    "- Data available in CSV format\n",
    "\n",
    "`Cologne Weather History`\n",
    "- Dataset: Cologne Weather History for the duration of 2000-01-01 to 2021-12-31\n",
    "- Data contains information about various weather parameters in Cologne\n",
    "- Features include: Ground Temperature 5 cm under ground in °Celsius, Wind speed in m/sec, Precipitation height in mm (rain intensity), Sunshine in minutes per hour, Air temperature in °Celsius, Relative humidity in %\n",
    "- Data is available in CSV format\n",
    "- Metadata and data can be accessed through the provided URLs\n",
    "- Sourced from Kaggle dataset repository"
   ]
  },
  {
   "cell_type": "markdown",
   "id": "1c34abf6",
   "metadata": {},
   "source": [
    "#### Import the required packages"
   ]
  },
  {
   "cell_type": "code",
   "execution_count": 1,
   "id": "846f5759",
   "metadata": {},
   "outputs": [],
   "source": [
    "import pandas as pd\n",
    "import numpy as np\n",
    "import matplotlib.pyplot as plt\n",
    "import sqlite3\n",
    "import seaborn as sns"
   ]
  },
  {
   "cell_type": "markdown",
   "id": "01076bfd",
   "metadata": {},
   "source": [
    "#### Loading Data"
   ]
  },
  {
   "cell_type": "code",
   "execution_count": 2,
   "id": "b46ce8a2",
   "metadata": {},
   "outputs": [],
   "source": [
    "conn = sqlite3.connect('../data/data.sqlite')\n",
    "speed_data = pd.read_sql_query(\"SELECT * FROM data_speed\", conn)\n",
    "weather_data = pd.read_sql_query(\"SELECT * FROM data_weather\", conn)\n",
    "conn.close()"
   ]
  },
  {
   "cell_type": "markdown",
   "id": "8b4431f8",
   "metadata": {},
   "source": [
    "#### Display the first few rows of the dataframes\n",
    "\n",
    "The `.head()` method in pandas is used to display the first few rows of a DataFrame. By default, it returns the first five rows, but you can specify the number of rows to display within the parentheses"
   ]
  },
  {
   "cell_type": "markdown",
   "id": "38a7c199",
   "metadata": {},
   "source": [
    "#### `Before renaming`"
   ]
  },
  {
   "cell_type": "code",
   "execution_count": 3,
   "id": "bf910fd6",
   "metadata": {},
   "outputs": [
    {
     "data": {
      "text/html": [
       "<div>\n",
       "<style scoped>\n",
       "    .dataframe tbody tr th:only-of-type {\n",
       "        vertical-align: middle;\n",
       "    }\n",
       "\n",
       "    .dataframe tbody tr th {\n",
       "        vertical-align: top;\n",
       "    }\n",
       "\n",
       "    .dataframe thead th {\n",
       "        text-align: right;\n",
       "    }\n",
       "</style>\n",
       "<table border=\"1\" class=\"dataframe\">\n",
       "  <thead>\n",
       "    <tr style=\"text-align: right;\">\n",
       "      <th></th>\n",
       "      <th>jahr</th>\n",
       "      <th>monat</th>\n",
       "      <th>vorfallsdatum</th>\n",
       "      <th>vorfallsuhrzeit</th>\n",
       "      <th>Kennz</th>\n",
       "      <th>geschwindigkeit</th>\n",
       "      <th>ueberschreitung</th>\n",
       "      <th>fahrzeugart</th>\n",
       "      <th>dienststelle</th>\n",
       "      <th>standort</th>\n",
       "    </tr>\n",
       "  </thead>\n",
       "  <tbody>\n",
       "    <tr>\n",
       "      <th>0</th>\n",
       "      <td>2017</td>\n",
       "      <td>1</td>\n",
       "      <td>10117</td>\n",
       "      <td>28</td>\n",
       "      <td>KL-</td>\n",
       "      <td>46</td>\n",
       "      <td>13</td>\n",
       "      <td>04a</td>\n",
       "      <td>None</td>\n",
       "      <td>40</td>\n",
       "    </tr>\n",
       "    <tr>\n",
       "      <th>1</th>\n",
       "      <td>2017</td>\n",
       "      <td>1</td>\n",
       "      <td>10117</td>\n",
       "      <td>255</td>\n",
       "      <td>-87</td>\n",
       "      <td>49</td>\n",
       "      <td>16</td>\n",
       "      <td>04a</td>\n",
       "      <td>None</td>\n",
       "      <td>40</td>\n",
       "    </tr>\n",
       "    <tr>\n",
       "      <th>2</th>\n",
       "      <td>2017</td>\n",
       "      <td>1</td>\n",
       "      <td>10117</td>\n",
       "      <td>437</td>\n",
       "      <td>K-</td>\n",
       "      <td>39</td>\n",
       "      <td>6</td>\n",
       "      <td>04a</td>\n",
       "      <td>None</td>\n",
       "      <td>40</td>\n",
       "    </tr>\n",
       "    <tr>\n",
       "      <th>3</th>\n",
       "      <td>2017</td>\n",
       "      <td>1</td>\n",
       "      <td>10117</td>\n",
       "      <td>650</td>\n",
       "      <td>K-</td>\n",
       "      <td>42</td>\n",
       "      <td>9</td>\n",
       "      <td>04a</td>\n",
       "      <td>None</td>\n",
       "      <td>40</td>\n",
       "    </tr>\n",
       "    <tr>\n",
       "      <th>4</th>\n",
       "      <td>2017</td>\n",
       "      <td>1</td>\n",
       "      <td>10117</td>\n",
       "      <td>933</td>\n",
       "      <td>SG-</td>\n",
       "      <td>73</td>\n",
       "      <td>10</td>\n",
       "      <td>04a</td>\n",
       "      <td>None</td>\n",
       "      <td>972</td>\n",
       "    </tr>\n",
       "  </tbody>\n",
       "</table>\n",
       "</div>"
      ],
      "text/plain": [
       "   jahr  monat  vorfallsdatum  vorfallsuhrzeit Kennz geschwindigkeit  \\\n",
       "0  2017      1          10117               28   KL-              46   \n",
       "1  2017      1          10117              255   -87              49   \n",
       "2  2017      1          10117              437    K-              39   \n",
       "3  2017      1          10117              650    K-              42   \n",
       "4  2017      1          10117              933   SG-              73   \n",
       "\n",
       "  ueberschreitung fahrzeugart dienststelle  standort  \n",
       "0              13         04a         None        40  \n",
       "1              16         04a         None        40  \n",
       "2               6         04a         None        40  \n",
       "3               9         04a         None        40  \n",
       "4              10         04a         None       972  "
      ]
     },
     "execution_count": 3,
     "metadata": {},
     "output_type": "execute_result"
    }
   ],
   "source": [
    "speed_data.head()"
   ]
  },
  {
   "cell_type": "markdown",
   "id": "0dbef3ab",
   "metadata": {},
   "source": [
    "In the provided code snippet, you are renaming the columns of a DataFrame called speed_data. The rename() function is used to change the names of columns in a DataFrame"
   ]
  },
  {
   "cell_type": "code",
   "execution_count": 4,
   "id": "6e69f41e",
   "metadata": {},
   "outputs": [],
   "source": [
    "speed_data.rename(columns={\n",
    "    'jahr': 'year',\n",
    "    'monat': 'month',\n",
    "    'vorfallsdatum': 'incident_date',\n",
    "    'vorfallsuhrzeit': 'incident_time',\n",
    "    'Kennz': 'location_license_plate',\n",
    "    'geschwindigkeit': 'speed',\n",
    "    'ueberschreitung': 'exceeding',\n",
    "    'fahrzeugart': 'vehicle_type',\n",
    "    'dienststelle': 'office',\n",
    "    'standort': 'incident_location'\n",
    "}, inplace=True)"
   ]
  },
  {
   "cell_type": "markdown",
   "id": "012e7153",
   "metadata": {},
   "source": [
    "#### `After Renaming`"
   ]
  },
  {
   "cell_type": "code",
   "execution_count": 5,
   "id": "cd78f133",
   "metadata": {},
   "outputs": [
    {
     "data": {
      "text/html": [
       "<div>\n",
       "<style scoped>\n",
       "    .dataframe tbody tr th:only-of-type {\n",
       "        vertical-align: middle;\n",
       "    }\n",
       "\n",
       "    .dataframe tbody tr th {\n",
       "        vertical-align: top;\n",
       "    }\n",
       "\n",
       "    .dataframe thead th {\n",
       "        text-align: right;\n",
       "    }\n",
       "</style>\n",
       "<table border=\"1\" class=\"dataframe\">\n",
       "  <thead>\n",
       "    <tr style=\"text-align: right;\">\n",
       "      <th></th>\n",
       "      <th>year</th>\n",
       "      <th>month</th>\n",
       "      <th>incident_date</th>\n",
       "      <th>incident_time</th>\n",
       "      <th>location_license_plate</th>\n",
       "      <th>speed</th>\n",
       "      <th>exceeding</th>\n",
       "      <th>vehicle_type</th>\n",
       "      <th>office</th>\n",
       "      <th>incident_location</th>\n",
       "    </tr>\n",
       "  </thead>\n",
       "  <tbody>\n",
       "    <tr>\n",
       "      <th>0</th>\n",
       "      <td>2017</td>\n",
       "      <td>1</td>\n",
       "      <td>10117</td>\n",
       "      <td>28</td>\n",
       "      <td>KL-</td>\n",
       "      <td>46</td>\n",
       "      <td>13</td>\n",
       "      <td>04a</td>\n",
       "      <td>None</td>\n",
       "      <td>40</td>\n",
       "    </tr>\n",
       "    <tr>\n",
       "      <th>1</th>\n",
       "      <td>2017</td>\n",
       "      <td>1</td>\n",
       "      <td>10117</td>\n",
       "      <td>255</td>\n",
       "      <td>-87</td>\n",
       "      <td>49</td>\n",
       "      <td>16</td>\n",
       "      <td>04a</td>\n",
       "      <td>None</td>\n",
       "      <td>40</td>\n",
       "    </tr>\n",
       "    <tr>\n",
       "      <th>2</th>\n",
       "      <td>2017</td>\n",
       "      <td>1</td>\n",
       "      <td>10117</td>\n",
       "      <td>437</td>\n",
       "      <td>K-</td>\n",
       "      <td>39</td>\n",
       "      <td>6</td>\n",
       "      <td>04a</td>\n",
       "      <td>None</td>\n",
       "      <td>40</td>\n",
       "    </tr>\n",
       "    <tr>\n",
       "      <th>3</th>\n",
       "      <td>2017</td>\n",
       "      <td>1</td>\n",
       "      <td>10117</td>\n",
       "      <td>650</td>\n",
       "      <td>K-</td>\n",
       "      <td>42</td>\n",
       "      <td>9</td>\n",
       "      <td>04a</td>\n",
       "      <td>None</td>\n",
       "      <td>40</td>\n",
       "    </tr>\n",
       "    <tr>\n",
       "      <th>4</th>\n",
       "      <td>2017</td>\n",
       "      <td>1</td>\n",
       "      <td>10117</td>\n",
       "      <td>933</td>\n",
       "      <td>SG-</td>\n",
       "      <td>73</td>\n",
       "      <td>10</td>\n",
       "      <td>04a</td>\n",
       "      <td>None</td>\n",
       "      <td>972</td>\n",
       "    </tr>\n",
       "  </tbody>\n",
       "</table>\n",
       "</div>"
      ],
      "text/plain": [
       "   year  month  incident_date  incident_time location_license_plate speed  \\\n",
       "0  2017      1          10117             28                    KL-    46   \n",
       "1  2017      1          10117            255                    -87    49   \n",
       "2  2017      1          10117            437                     K-    39   \n",
       "3  2017      1          10117            650                     K-    42   \n",
       "4  2017      1          10117            933                    SG-    73   \n",
       "\n",
       "  exceeding vehicle_type office  incident_location  \n",
       "0        13          04a   None                 40  \n",
       "1        16          04a   None                 40  \n",
       "2         6          04a   None                 40  \n",
       "3         9          04a   None                 40  \n",
       "4        10          04a   None                972  "
      ]
     },
     "execution_count": 5,
     "metadata": {},
     "output_type": "execute_result"
    }
   ],
   "source": [
    "speed_data.head()"
   ]
  },
  {
   "cell_type": "markdown",
   "id": "9410073f",
   "metadata": {},
   "source": [
    "#### `Before renaming`"
   ]
  },
  {
   "cell_type": "code",
   "execution_count": 6,
   "id": "a2a3ce26",
   "metadata": {},
   "outputs": [
    {
     "data": {
      "text/html": [
       "<div>\n",
       "<style scoped>\n",
       "    .dataframe tbody tr th:only-of-type {\n",
       "        vertical-align: middle;\n",
       "    }\n",
       "\n",
       "    .dataframe tbody tr th {\n",
       "        vertical-align: top;\n",
       "    }\n",
       "\n",
       "    .dataframe thead th {\n",
       "        text-align: right;\n",
       "    }\n",
       "</style>\n",
       "<table border=\"1\" class=\"dataframe\">\n",
       "  <thead>\n",
       "    <tr style=\"text-align: right;\">\n",
       "      <th></th>\n",
       "      <th>Unnamed: 0</th>\n",
       "      <th>GroundTempCelsius</th>\n",
       "      <th>WindSpeedMeterPerSec</th>\n",
       "      <th>PrecipitationHeightMillimeter</th>\n",
       "      <th>SunshineMinutes</th>\n",
       "      <th>AirTempCelsius</th>\n",
       "      <th>RelHumidityPercent</th>\n",
       "    </tr>\n",
       "  </thead>\n",
       "  <tbody>\n",
       "    <tr>\n",
       "      <th>0</th>\n",
       "      <td>2000-01-01 00:00:00</td>\n",
       "      <td>NaN</td>\n",
       "      <td>2.7</td>\n",
       "      <td>0.0</td>\n",
       "      <td>NaN</td>\n",
       "      <td>3.8</td>\n",
       "      <td>85.0</td>\n",
       "    </tr>\n",
       "    <tr>\n",
       "      <th>1</th>\n",
       "      <td>2000-01-01 01:00:00</td>\n",
       "      <td>NaN</td>\n",
       "      <td>2.0</td>\n",
       "      <td>0.0</td>\n",
       "      <td>NaN</td>\n",
       "      <td>3.8</td>\n",
       "      <td>85.0</td>\n",
       "    </tr>\n",
       "    <tr>\n",
       "      <th>2</th>\n",
       "      <td>2000-01-01 02:00:00</td>\n",
       "      <td>NaN</td>\n",
       "      <td>2.3</td>\n",
       "      <td>0.0</td>\n",
       "      <td>NaN</td>\n",
       "      <td>3.6</td>\n",
       "      <td>89.0</td>\n",
       "    </tr>\n",
       "    <tr>\n",
       "      <th>3</th>\n",
       "      <td>2000-01-01 03:00:00</td>\n",
       "      <td>NaN</td>\n",
       "      <td>2.0</td>\n",
       "      <td>0.0</td>\n",
       "      <td>0.0</td>\n",
       "      <td>3.6</td>\n",
       "      <td>90.0</td>\n",
       "    </tr>\n",
       "    <tr>\n",
       "      <th>4</th>\n",
       "      <td>2000-01-01 04:00:00</td>\n",
       "      <td>NaN</td>\n",
       "      <td>2.6</td>\n",
       "      <td>0.0</td>\n",
       "      <td>0.0</td>\n",
       "      <td>3.7</td>\n",
       "      <td>89.0</td>\n",
       "    </tr>\n",
       "  </tbody>\n",
       "</table>\n",
       "</div>"
      ],
      "text/plain": [
       "            Unnamed: 0  GroundTempCelsius  WindSpeedMeterPerSec  \\\n",
       "0  2000-01-01 00:00:00                NaN                   2.7   \n",
       "1  2000-01-01 01:00:00                NaN                   2.0   \n",
       "2  2000-01-01 02:00:00                NaN                   2.3   \n",
       "3  2000-01-01 03:00:00                NaN                   2.0   \n",
       "4  2000-01-01 04:00:00                NaN                   2.6   \n",
       "\n",
       "   PrecipitationHeightMillimeter  SunshineMinutes  AirTempCelsius  \\\n",
       "0                            0.0              NaN             3.8   \n",
       "1                            0.0              NaN             3.8   \n",
       "2                            0.0              NaN             3.6   \n",
       "3                            0.0              0.0             3.6   \n",
       "4                            0.0              0.0             3.7   \n",
       "\n",
       "   RelHumidityPercent  \n",
       "0                85.0  \n",
       "1                85.0  \n",
       "2                89.0  \n",
       "3                90.0  \n",
       "4                89.0  "
      ]
     },
     "execution_count": 6,
     "metadata": {},
     "output_type": "execute_result"
    }
   ],
   "source": [
    "weather_data.head()"
   ]
  },
  {
   "cell_type": "code",
   "execution_count": 7,
   "id": "beed1942",
   "metadata": {},
   "outputs": [],
   "source": [
    "weather_data.rename(columns={\n",
    "    'Unnamed: 0': 'date_time'}, inplace = True)"
   ]
  },
  {
   "cell_type": "markdown",
   "id": "81c8768e",
   "metadata": {},
   "source": [
    "#### `After Renaming`"
   ]
  },
  {
   "cell_type": "code",
   "execution_count": 8,
   "id": "dca23b79",
   "metadata": {},
   "outputs": [
    {
     "data": {
      "text/html": [
       "<div>\n",
       "<style scoped>\n",
       "    .dataframe tbody tr th:only-of-type {\n",
       "        vertical-align: middle;\n",
       "    }\n",
       "\n",
       "    .dataframe tbody tr th {\n",
       "        vertical-align: top;\n",
       "    }\n",
       "\n",
       "    .dataframe thead th {\n",
       "        text-align: right;\n",
       "    }\n",
       "</style>\n",
       "<table border=\"1\" class=\"dataframe\">\n",
       "  <thead>\n",
       "    <tr style=\"text-align: right;\">\n",
       "      <th></th>\n",
       "      <th>date_time</th>\n",
       "      <th>GroundTempCelsius</th>\n",
       "      <th>WindSpeedMeterPerSec</th>\n",
       "      <th>PrecipitationHeightMillimeter</th>\n",
       "      <th>SunshineMinutes</th>\n",
       "      <th>AirTempCelsius</th>\n",
       "      <th>RelHumidityPercent</th>\n",
       "    </tr>\n",
       "  </thead>\n",
       "  <tbody>\n",
       "    <tr>\n",
       "      <th>0</th>\n",
       "      <td>2000-01-01 00:00:00</td>\n",
       "      <td>NaN</td>\n",
       "      <td>2.7</td>\n",
       "      <td>0.0</td>\n",
       "      <td>NaN</td>\n",
       "      <td>3.8</td>\n",
       "      <td>85.0</td>\n",
       "    </tr>\n",
       "    <tr>\n",
       "      <th>1</th>\n",
       "      <td>2000-01-01 01:00:00</td>\n",
       "      <td>NaN</td>\n",
       "      <td>2.0</td>\n",
       "      <td>0.0</td>\n",
       "      <td>NaN</td>\n",
       "      <td>3.8</td>\n",
       "      <td>85.0</td>\n",
       "    </tr>\n",
       "    <tr>\n",
       "      <th>2</th>\n",
       "      <td>2000-01-01 02:00:00</td>\n",
       "      <td>NaN</td>\n",
       "      <td>2.3</td>\n",
       "      <td>0.0</td>\n",
       "      <td>NaN</td>\n",
       "      <td>3.6</td>\n",
       "      <td>89.0</td>\n",
       "    </tr>\n",
       "    <tr>\n",
       "      <th>3</th>\n",
       "      <td>2000-01-01 03:00:00</td>\n",
       "      <td>NaN</td>\n",
       "      <td>2.0</td>\n",
       "      <td>0.0</td>\n",
       "      <td>0.0</td>\n",
       "      <td>3.6</td>\n",
       "      <td>90.0</td>\n",
       "    </tr>\n",
       "    <tr>\n",
       "      <th>4</th>\n",
       "      <td>2000-01-01 04:00:00</td>\n",
       "      <td>NaN</td>\n",
       "      <td>2.6</td>\n",
       "      <td>0.0</td>\n",
       "      <td>0.0</td>\n",
       "      <td>3.7</td>\n",
       "      <td>89.0</td>\n",
       "    </tr>\n",
       "  </tbody>\n",
       "</table>\n",
       "</div>"
      ],
      "text/plain": [
       "             date_time  GroundTempCelsius  WindSpeedMeterPerSec  \\\n",
       "0  2000-01-01 00:00:00                NaN                   2.7   \n",
       "1  2000-01-01 01:00:00                NaN                   2.0   \n",
       "2  2000-01-01 02:00:00                NaN                   2.3   \n",
       "3  2000-01-01 03:00:00                NaN                   2.0   \n",
       "4  2000-01-01 04:00:00                NaN                   2.6   \n",
       "\n",
       "   PrecipitationHeightMillimeter  SunshineMinutes  AirTempCelsius  \\\n",
       "0                            0.0              NaN             3.8   \n",
       "1                            0.0              NaN             3.8   \n",
       "2                            0.0              NaN             3.6   \n",
       "3                            0.0              0.0             3.6   \n",
       "4                            0.0              0.0             3.7   \n",
       "\n",
       "   RelHumidityPercent  \n",
       "0                85.0  \n",
       "1                85.0  \n",
       "2                89.0  \n",
       "3                90.0  \n",
       "4                89.0  "
      ]
     },
     "execution_count": 8,
     "metadata": {},
     "output_type": "execute_result"
    }
   ],
   "source": [
    "weather_data.head()"
   ]
  },
  {
   "cell_type": "markdown",
   "id": "cb1b1a23",
   "metadata": {},
   "source": [
    "#### Check the shape of the dataframes\n",
    "\n",
    "The `.shape` attribute in pandas is used to determine the dimensions of a DataFrame or a NumPy array. It returns a tuple that represents the number of rows and columns in the dataset\n",
    "\n",
    "- The first value represents the number of rows in the DataFrame.\n",
    "- The second value represents the number of columns in the DataFrame"
   ]
  },
  {
   "cell_type": "code",
   "execution_count": 9,
   "id": "92b1e59e",
   "metadata": {},
   "outputs": [
    {
     "name": "stdout",
     "output_type": "stream",
     "text": [
      "Shape of speed_data: (3454540, 10)\n",
      "Shape of weather_data: (192864, 7)\n"
     ]
    }
   ],
   "source": [
    "print(\"Shape of speed_data:\", speed_data.shape)\n",
    "print(\"Shape of weather_data:\", weather_data.shape)"
   ]
  },
  {
   "cell_type": "markdown",
   "id": "72a1fd17",
   "metadata": {},
   "source": [
    "#### Basic information about the data\n",
    "\n",
    "The `.info()` method in pandas provides a concise summary of the DataFrame, including the total number of entries, column names, data types, and memory usage. It gives you a quick overview of the dataset's structure and allows you to identify potential issues or inconsistencies\n",
    "\n",
    "- The number of rows and columns in the DataFrame\n",
    "- The column names and their corresponding data types\n",
    "- The count of non-null values in each column\n",
    "- The total memory usage of the DataFrame"
   ]
  },
  {
   "cell_type": "code",
   "execution_count": 10,
   "id": "261e4a64",
   "metadata": {},
   "outputs": [
    {
     "name": "stdout",
     "output_type": "stream",
     "text": [
      "<class 'pandas.core.frame.DataFrame'>\n",
      "RangeIndex: 3454540 entries, 0 to 3454539\n",
      "Data columns (total 10 columns):\n",
      " #   Column                  Dtype \n",
      "---  ------                  ----- \n",
      " 0   year                    int64 \n",
      " 1   month                   int64 \n",
      " 2   incident_date           int64 \n",
      " 3   incident_time           int64 \n",
      " 4   location_license_plate  object\n",
      " 5   speed                   object\n",
      " 6   exceeding               object\n",
      " 7   vehicle_type            object\n",
      " 8   office                  object\n",
      " 9   incident_location       int64 \n",
      "dtypes: int64(5), object(5)\n",
      "memory usage: 263.6+ MB\n"
     ]
    }
   ],
   "source": [
    "speed_data.info()"
   ]
  },
  {
   "cell_type": "markdown",
   "id": "6821d1b0",
   "metadata": {},
   "source": [
    "### `Bar Chart`\n",
    "\n",
    "- The bar chart represents the average incident count per month from 2017 to 2022\n",
    "- The chart provides an overview of the average incident frequency throughout the observed period\n",
    "- The x-axis represents the months, ranging from January to December.\n",
    "- The y-axis indicates the average incident count, representing the typical number of incidents that occurred in a given month.\n",
    "- The chart allows for a visual comparison of the average incident counts across different months.\n",
    "- It showcases any seasonal or monthly patterns in incident occurrence.\n",
    "- The bar chart helps identify months with higher or lower incident counts, enabling further investigation into potential factors influencing incident frequency"
   ]
  },
  {
   "cell_type": "code",
   "execution_count": 11,
   "id": "ed280ac8",
   "metadata": {},
   "outputs": [
    {
     "data": {
      "image/png": "[encoded data removed]",
      "text/plain": [
       "<Figure size 1000x600 with 1 Axes>"
      ]
     },
     "metadata": {},
     "output_type": "display_data"
    }
   ],
   "source": [
    "import matplotlib.pyplot as plt\n",
    "\n",
    "# Calculate the average incident count per month\n",
    "average_counts = speed_data.groupby('month')['incident_location'].mean()\n",
    "\n",
    "# Create the bar chart\n",
    "plt.figure(figsize=(10, 6))\n",
    "plt.bar(average_counts.index, average_counts.values)\n",
    "plt.xlabel('Month')\n",
    "plt.ylabel('Average # of Speed Incident')\n",
    "plt.title('Average # of speed incident - by Month')\n",
    "plt.xticks(average_counts.index)\n",
    "\n",
    "# Display the value for each bar\n",
    "for i, value in enumerate(average_counts.values):\n",
    "    plt.text(i, value, f'{value:.2f}', ha='center', va='bottom')\n",
    "\n",
    "plt.show()\n"
   ]
  },
  {
   "cell_type": "code",
   "execution_count": 12,
   "id": "152eefcd",
   "metadata": {},
   "outputs": [
    {
     "name": "stdout",
     "output_type": "stream",
     "text": [
      "<class 'pandas.core.frame.DataFrame'>\n",
      "RangeIndex: 192864 entries, 0 to 192863\n",
      "Data columns (total 7 columns):\n",
      " #   Column                         Non-Null Count   Dtype  \n",
      "---  ------                         --------------   -----  \n",
      " 0   date_time                      192864 non-null  object \n",
      " 1   GroundTempCelsius              181244 non-null  float64\n",
      " 2   WindSpeedMeterPerSec           192685 non-null  float64\n",
      " 3   PrecipitationHeightMillimeter  192641 non-null  float64\n",
      " 4   SunshineMinutes                144262 non-null  float64\n",
      " 5   AirTempCelsius                 192864 non-null  float64\n",
      " 6   RelHumidityPercent             192860 non-null  float64\n",
      "dtypes: float64(6), object(1)\n",
      "memory usage: 10.3+ MB\n"
     ]
    }
   ],
   "source": [
    "weather_data.info()"
   ]
  },
  {
   "cell_type": "markdown",
   "id": "410ab55c",
   "metadata": {},
   "source": [
    "### `Describe()`\n",
    "\n",
    "The describe() method in pandas is used to generate descriptive statistics of a DataFrame or Series. When applied to a DataFrame, it provides a summary of the central tendency, dispersion, and shape of the distribution of each numerical column in the DataFrame."
   ]
  },
  {
   "cell_type": "code",
   "execution_count": 13,
   "id": "6c2df909",
   "metadata": {},
   "outputs": [
    {
     "data": {
      "text/html": [
       "<div>\n",
       "<style scoped>\n",
       "    .dataframe tbody tr th:only-of-type {\n",
       "        vertical-align: middle;\n",
       "    }\n",
       "\n",
       "    .dataframe tbody tr th {\n",
       "        vertical-align: top;\n",
       "    }\n",
       "\n",
       "    .dataframe thead th {\n",
       "        text-align: right;\n",
       "    }\n",
       "</style>\n",
       "<table border=\"1\" class=\"dataframe\">\n",
       "  <thead>\n",
       "    <tr style=\"text-align: right;\">\n",
       "      <th></th>\n",
       "      <th>GroundTempCelsius</th>\n",
       "      <th>WindSpeedMeterPerSec</th>\n",
       "      <th>PrecipitationHeightMillimeter</th>\n",
       "      <th>SunshineMinutes</th>\n",
       "      <th>AirTempCelsius</th>\n",
       "      <th>RelHumidityPercent</th>\n",
       "    </tr>\n",
       "  </thead>\n",
       "  <tbody>\n",
       "    <tr>\n",
       "      <th>count</th>\n",
       "      <td>181244.000000</td>\n",
       "      <td>192685.000000</td>\n",
       "      <td>192641.000000</td>\n",
       "      <td>144262.000000</td>\n",
       "      <td>192864.000000</td>\n",
       "      <td>192860.000000</td>\n",
       "    </tr>\n",
       "    <tr>\n",
       "      <th>mean</th>\n",
       "      <td>12.295538</td>\n",
       "      <td>3.218732</td>\n",
       "      <td>0.089737</td>\n",
       "      <td>14.598176</td>\n",
       "      <td>10.950416</td>\n",
       "      <td>76.174220</td>\n",
       "    </tr>\n",
       "    <tr>\n",
       "      <th>std</th>\n",
       "      <td>8.479410</td>\n",
       "      <td>1.694187</td>\n",
       "      <td>0.520861</td>\n",
       "      <td>22.611096</td>\n",
       "      <td>7.453838</td>\n",
       "      <td>17.569492</td>\n",
       "    </tr>\n",
       "    <tr>\n",
       "      <th>min</th>\n",
       "      <td>-7.400000</td>\n",
       "      <td>0.000000</td>\n",
       "      <td>0.000000</td>\n",
       "      <td>0.000000</td>\n",
       "      <td>-18.900000</td>\n",
       "      <td>12.000000</td>\n",
       "    </tr>\n",
       "    <tr>\n",
       "      <th>25%</th>\n",
       "      <td>5.400000</td>\n",
       "      <td>1.900000</td>\n",
       "      <td>0.000000</td>\n",
       "      <td>0.000000</td>\n",
       "      <td>5.500000</td>\n",
       "      <td>65.000000</td>\n",
       "    </tr>\n",
       "    <tr>\n",
       "      <th>50%</th>\n",
       "      <td>11.400000</td>\n",
       "      <td>2.900000</td>\n",
       "      <td>0.000000</td>\n",
       "      <td>0.000000</td>\n",
       "      <td>10.800000</td>\n",
       "      <td>80.000000</td>\n",
       "    </tr>\n",
       "    <tr>\n",
       "      <th>75%</th>\n",
       "      <td>18.200000</td>\n",
       "      <td>4.200000</td>\n",
       "      <td>0.000000</td>\n",
       "      <td>27.000000</td>\n",
       "      <td>16.200000</td>\n",
       "      <td>90.000000</td>\n",
       "    </tr>\n",
       "    <tr>\n",
       "      <th>max</th>\n",
       "      <td>46.200000</td>\n",
       "      <td>15.800000</td>\n",
       "      <td>43.500000</td>\n",
       "      <td>60.000000</td>\n",
       "      <td>39.600000</td>\n",
       "      <td>100.000000</td>\n",
       "    </tr>\n",
       "  </tbody>\n",
       "</table>\n",
       "</div>"
      ],
      "text/plain": [
       "       GroundTempCelsius  WindSpeedMeterPerSec  PrecipitationHeightMillimeter  \\\n",
       "count      181244.000000         192685.000000                  192641.000000   \n",
       "mean           12.295538              3.218732                       0.089737   \n",
       "std             8.479410              1.694187                       0.520861   \n",
       "min            -7.400000              0.000000                       0.000000   \n",
       "25%             5.400000              1.900000                       0.000000   \n",
       "50%            11.400000              2.900000                       0.000000   \n",
       "75%            18.200000              4.200000                       0.000000   \n",
       "max            46.200000             15.800000                      43.500000   \n",
       "\n",
       "       SunshineMinutes  AirTempCelsius  RelHumidityPercent  \n",
       "count    144262.000000   192864.000000       192860.000000  \n",
       "mean         14.598176       10.950416           76.174220  \n",
       "std          22.611096        7.453838           17.569492  \n",
       "min           0.000000      -18.900000           12.000000  \n",
       "25%           0.000000        5.500000           65.000000  \n",
       "50%           0.000000       10.800000           80.000000  \n",
       "75%          27.000000       16.200000           90.000000  \n",
       "max          60.000000       39.600000          100.000000  "
      ]
     },
     "execution_count": 13,
     "metadata": {},
     "output_type": "execute_result"
    }
   ],
   "source": [
    "weather_data.describe()"
   ]
  },
  {
   "cell_type": "markdown",
   "id": "147523af",
   "metadata": {},
   "source": [
    "- The dataset contains weather data has 192,864 entries\n",
    "- The average ground temperature is 12.30°C, with a standard deviation of 8.48°C\n",
    "- Wind speeds range from 0 to 15.8 meters per second, with an average of 3.22 meters per second\n",
    "- Precipitation heights vary from 0 to 43.5 millimeters, with an average of 0.09 millimeters\n",
    "- The average duration of sunshine is 14.60 minutes, with a maximum of 60 minutes\n",
    "- Air temperatures range from -7.4°C to 39.6°C, with an average of 10.95°C\n",
    "- Relative humidity levels range from 12% to 100%, with an average of 76.17%"
   ]
  },
  {
   "cell_type": "markdown",
   "id": "ef45d5c1",
   "metadata": {},
   "source": [
    "#### Chek for missing values:\n",
    "Handled in the 'report.ipynb'"
   ]
  },
  {
   "cell_type": "code",
   "execution_count": 14,
   "id": "bbda964f",
   "metadata": {},
   "outputs": [
    {
     "name": "stdout",
     "output_type": "stream",
     "text": [
      "Missing values in speed_data:\n",
      "year                           0\n",
      "month                          0\n",
      "incident_date                  0\n",
      "incident_time                  0\n",
      "location_license_plate     58612\n",
      "speed                          0\n",
      "exceeding                      1\n",
      "vehicle_type                   0\n",
      "office                    551096\n",
      "incident_location              0\n",
      "dtype: int64\n",
      "\n",
      "Missing values in weather_data:\n",
      "date_time                            0\n",
      "GroundTempCelsius                11620\n",
      "WindSpeedMeterPerSec               179\n",
      "PrecipitationHeightMillimeter      223\n",
      "SunshineMinutes                  48602\n",
      "AirTempCelsius                       0\n",
      "RelHumidityPercent                   4\n",
      "dtype: int64\n"
     ]
    }
   ],
   "source": [
    "print(\"Missing values in speed_data:\")\n",
    "print(speed_data.isnull().sum())\n",
    "\n",
    "print(\"\\nMissing values in weather_data:\")\n",
    "print(weather_data.isnull().sum())"
   ]
  },
  {
   "cell_type": "markdown",
   "id": "eeb6c721",
   "metadata": {},
   "source": [
    "___"
   ]
  },
  {
   "cell_type": "markdown",
   "id": "0c1fd09c",
   "metadata": {},
   "source": [
    "___"
   ]
  },
  {
   "cell_type": "markdown",
   "id": "afe91bad",
   "metadata": {},
   "source": [
    "### Refer `report.ipynb` file for data cleaning and the usecase details"
   ]
  }
 ],
 "metadata": {
  "kernelspec": {
   "display_name": "Python 3 (ipykernel)",
   "language": "python",
   "name": "python3"
  },
  "language_info": {
   "codemirror_mode": {
    "name": "ipython",
    "version": 3
   },
   "file_extension": ".py",
   "mimetype": "text/x-python",
   "name": "python",
   "nbconvert_exporter": "python",
   "pygments_lexer": "ipython3",
   "version": "3.11.3"
  }
 },
 "nbformat": 4,
 "nbformat_minor": 5
}
